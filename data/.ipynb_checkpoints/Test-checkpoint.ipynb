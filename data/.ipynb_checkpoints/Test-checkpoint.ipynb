{
 "cells": [
  {
   "cell_type": "code",
   "execution_count": 27,
   "metadata": {},
   "outputs": [
    {
     "data": {
      "text/plain": [
       "<module 'data_utils' from 'data_utils.py'>"
      ]
     },
     "execution_count": 27,
     "metadata": {},
     "output_type": "execute_result"
    }
   ],
   "source": [
    "import csv\n",
    "import data_utils\n",
    "import importlib\n",
    "import torch\n",
    "import numpy as np\n",
    "\n",
    "reload(data_utils)"
   ]
  },
  {
   "cell_type": "code",
   "execution_count": 26,
   "metadata": {},
   "outputs": [
    {
     "name": "stdout",
     "output_type": "stream",
     "text": [
      "1989\n",
      "(7, 1984, 5)\n",
      "torch.Size([7, 1984, 5])\n"
     ]
    }
   ],
   "source": [
    "data = data_utils.loadTechnical(\"./stocknews/DJIA_table.csv\")\n",
    "n=5\n",
    "\n",
    "# tensor = np.array([data['Stoch_K'],data['Stoch_D'],data['Momentum'],data['ROC'],data['WillR'],data['AD'],data['Disp']])\n",
    "# # print(tens.shape)\n",
    "# # print(tens.shape)\n",
    "# sequence_len = tensor.shape[1]\n",
    "# stack = []\n",
    "# for i in range(n,sequence_len): \n",
    "#     value = tensor[:,np.newaxis,i-n:i]\n",
    "#     stack.append(value)\n",
    "# new_tensor = np.concatenate(stack,1)\n",
    "# print(new_tensor.shape)\n",
    "# new_tensor = torch.Tensor(new_tensor)\n",
    "# print(new_tensor.shape)"
   ]
  },
  {
   "cell_type": "code",
   "execution_count": null,
   "metadata": {},
   "outputs": [],
   "source": []
  }
 ],
 "metadata": {
  "kernelspec": {
   "display_name": "Python [conda env:CS224n]",
   "language": "python",
   "name": "conda-env-CS224n-py"
  },
  "language_info": {
   "codemirror_mode": {
    "name": "ipython",
    "version": 2
   },
   "file_extension": ".py",
   "mimetype": "text/x-python",
   "name": "python",
   "nbconvert_exporter": "python",
   "pygments_lexer": "ipython2",
   "version": "2.7.15"
  }
 },
 "nbformat": 4,
 "nbformat_minor": 2
}
