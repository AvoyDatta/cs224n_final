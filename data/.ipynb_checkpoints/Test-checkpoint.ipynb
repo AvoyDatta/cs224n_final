{
 "cells": [
  {
   "cell_type": "code",
   "execution_count": 42,
   "metadata": {},
   "outputs": [
    {
     "data": {
      "text/plain": [
       "<module 'data_utils' from 'data_utils.py'>"
      ]
     },
     "execution_count": 42,
     "metadata": {},
     "output_type": "execute_result"
    }
   ],
   "source": [
    "import csv\n",
    "import data_utils\n",
    "import importlib\n",
    "import torch\n",
    "import numpy as np\n",
    "\n",
    "reload(data_utils)"
   ]
  },
  {
   "cell_type": "code",
   "execution_count": 43,
   "metadata": {},
   "outputs": [
    {
     "name": "stdout",
     "output_type": "stream",
     "text": [
      "torch.Size([5, 1982, 7])\n"
     ]
    }
   ],
   "source": [
    "data = data_utils.loadTechnical(\"./stocknews/DJIA_table.csv\")\n",
    "print(data.shape)\n",
    "\n",
    "# tensor = np.array([data['Stoch_K'],data['Stoch_D'],data['Momentum'],data['ROC'],data['WillR'],data['AD'],data['Disp']])\n",
    "# # print(tens.shape)\n",
    "# # print(tens.shape)\n",
    "# sequence_len = tensor.shape[1]\n",
    "# stack = []\n",
    "# for i in range(n,sequence_len): \n",
    "#     value = tensor[:,np.newaxis,i-n:i]\n",
    "#     stack.append(value)\n",
    "# new_tensor = np.concatenate(stack,1)\n",
    "# print(new_tensor.shape)\n",
    "# new_tensor = torch.Tensor(new_tensor)\n",
    "# print(new_tensor.shape)"
   ]
  },
  {
   "cell_type": "code",
   "execution_count": 30,
   "metadata": {},
   "outputs": [
    {
     "name": "stdout",
     "output_type": "stream",
     "text": [
      "2008-08-08\n",
      "0\n",
      "\"Georgia 'downs two Russian warplanes' as countries move to brink of war\"\n",
      "'BREAKING: Musharraf to be impeached.'\n",
      "'Russia Today: Columns of troops roll into South Ossetia; footage from fighting (YouTube)'\n",
      "'Russian tanks are moving towards the capital of South Ossetia, which has reportedly been completely destroyed by Georgian artillery fire'\n",
      "\"Afghan children raped with 'impunity,' U.N. official says - this is sick, a three year old was raped and they do nothing\"\n",
      "'150 Russian tanks have entered South Ossetia whilst Georgia shoots down two Russian jets.'\n",
      "\"Breaking: Georgia invades South Ossetia, Russia warned it would intervene on SO's side\"\n",
      "\"The 'enemy combatent' trials are nothing but a sham: Salim Haman has been sentenced to 5 1/2 years, but will be kept longer anyway just because they feel like it.\"\n",
      "'Georgian troops retreat from S. Osettain capital, presumably leaving several hundred people killed. [VIDEO]'\n",
      "'Did the U.S. Prep Georgia for War with Russia?'\n",
      "'Rice Gives Green Light for Israel to Attack Iran: Says U.S. has no veto over Israeli military ops'\n",
      "'Announcing:Class Action Lawsuit on Behalf of American Public Against the FBI'\n",
      "\"So---Russia and Georgia are at war and the NYT's top story is opening ceremonies of the Olympics?  What a fucking disgrace and yet further proof of the decline of journalism.\"\n",
      "\"China tells Bush to stay out of other countries' affairs\"\n",
      "'Did World War III start today?'\n",
      "'Georgia Invades South Ossetia - if Russia gets involved, will NATO absorb Georgia and unleash a full scale war?'\n",
      "'Al-Qaeda Faces Islamist Backlash'\n",
      "'Condoleezza Rice: \"The US would not act to prevent an Israeli strike on Iran.\" Israeli Defense Minister Ehud Barak: \"Israel is prepared for uncompromising victory in the case of military hostilities.\"'\n",
      "'This is a busy day:  The European Union has approved new sanctions against Iran in protest at its nuclear programme.'\n",
      "\"Georgia will withdraw 1,000 soldiers from Iraq to help fight off Russian forces in Georgia's breakaway region of South Ossetia\"\n",
      "'Why the Pentagon Thinks Attacking Iran is a Bad Idea - US News &amp; World Report'\n",
      "'Caucasus in crisis: Georgia invades South Ossetia'\n",
      "'Indian shoe manufactory  - And again in a series of \"you do not like your work?\"'\n",
      "'Visitors Suffering from Mental Illnesses Banned from Olympics'\n",
      "\"No Help for Mexico's Kidnapping Surge\"\n"
     ]
    }
   ],
   "source": [
    "data_title = data_utils.loadTitle(\"./stocknews/Combined_News_DJIA.csv\")\n",
    "# for items in data_title[1]:\n",
    "#     print(items)"
   ]
  },
  {
   "cell_type": "code",
   "execution_count": null,
   "metadata": {},
   "outputs": [],
   "source": []
  }
 ],
 "metadata": {
  "kernelspec": {
   "display_name": "Python [conda env:CS224n]",
   "language": "python",
   "name": "conda-env-CS224n-py"
  },
  "language_info": {
   "codemirror_mode": {
    "name": "ipython",
    "version": 2
   },
   "file_extension": ".py",
   "mimetype": "text/x-python",
   "name": "python",
   "nbconvert_exporter": "python",
   "pygments_lexer": "ipython2",
   "version": "2.7.15"
  }
 },
 "nbformat": 4,
 "nbformat_minor": 2
}
