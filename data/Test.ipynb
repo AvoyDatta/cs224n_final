{
 "cells": [
  {
   "cell_type": "code",
   "execution_count": 198,
   "metadata": {},
   "outputs": [
    {
     "data": {
      "text/plain": [
       "<module 'data_utils' from 'data_utils.py'>"
      ]
     },
     "execution_count": 198,
     "metadata": {},
     "output_type": "execute_result"
    }
   ],
   "source": [
    "import csv\n",
    "import data_utils\n",
    "import torch\n",
    "import numpy as np\n",
    "# from data_utils import DJIA_Dataset\n",
    "\n",
    "reload(data_utils)"
   ]
  },
  {
   "cell_type": "code",
   "execution_count": 199,
   "metadata": {},
   "outputs": [
    {
     "name": "stderr",
     "output_type": "stream",
     "text": [
      "  1%|          | 16/1988 [00:00<00:12, 155.11it/s]"
     ]
    },
    {
     "name": "stdout",
     "output_type": "stream",
     "text": [
      "Loading titles...\n"
     ]
    },
    {
     "name": "stderr",
     "output_type": "stream",
     "text": [
      "100%|██████████| 1988/1988 [00:12<00:00, 158.58it/s]"
     ]
    },
    {
     "name": "stdout",
     "output_type": "stream",
     "text": [
      "Completed loading titles\n"
     ]
    },
    {
     "name": "stderr",
     "output_type": "stream",
     "text": [
      "\n"
     ]
    }
   ],
   "source": [
    "# data = data_utils.loadTechnical(\"./DJIA_table.csv\")\n",
    "# print(data.shape)\n",
    "dataset = data_utils.DJIA_Dataset('./DJIA_table.csv','./Combined_News_DJIA.csv')\n",
    "\n",
    "# tensor = np.array([data['Stoch_K'],data['Stoch_D'],data['Momentum'],data['ROC'],data['WillR'],data['AD'],data['Disp']])\n",
    "# # print(tens.shape)\n",
    "# # print(tens.shape)\n",
    "# sequence_len = tensor.shape[1]\n",
    "# stack = []\n",
    "# for i in range(n,sequence_len): \n",
    "#     value = tensor[:,np.newaxis,i-n:i]\n",
    "#     stack.append(value)\n",
    "# new_tensor = np.concatenate(stack,1)\n",
    "# print(new_tensor.shape)\n",
    "# new_tensor = torch.Tensor(new_tensor)\n",
    "# print(new_tensor.shape)"
   ]
  },
  {
   "cell_type": "code",
   "execution_count": 203,
   "metadata": {},
   "outputs": [
    {
     "name": "stdout",
     "output_type": "stream",
     "text": [
      "(torch.Size([5, 7]), torch.Size([25, 50]), torch.Size([]))\n"
     ]
    }
   ],
   "source": [
    "print(dataset[0][0].shape,dataset[0][1].shape,dataset[0][2].shape)\n",
    "print(dataset[0][2])\n",
    "# targets,data_title = data_utils.loadTitle(\"./Combined_News_DJIA.csv\")\n",
    "# print(data_title.shape)\n",
    "# for items in data_title[1]:\n",
    "#     print(items)"
   ]
  },
  {
   "cell_type": "code",
   "execution_count": 163,
   "metadata": {},
   "outputs": [
    {
     "name": "stdout",
     "output_type": "stream",
     "text": [
      "torch.Size([1983, 25, 300])\n",
      "torch.Size([1983])\n"
     ]
    }
   ],
   "source": [
    "print(data_title.shape)\n",
    "print(targets.shape)\n",
    "# dat  = data_title[5:,:,:]\n",
    "# print(dat.shape)"
   ]
  },
  {
   "cell_type": "code",
   "execution_count": null,
   "metadata": {},
   "outputs": [],
   "source": []
  },
  {
   "cell_type": "code",
   "execution_count": null,
   "metadata": {},
   "outputs": [],
   "source": []
  }
 ],
 "metadata": {
  "kernelspec": {
   "display_name": "Python [conda env:CS224n]",
   "language": "python",
   "name": "conda-env-CS224n-py"
  },
  "language_info": {
   "codemirror_mode": {
    "name": "ipython",
    "version": 2
   },
   "file_extension": ".py",
   "mimetype": "text/x-python",
   "name": "python",
   "nbconvert_exporter": "python",
   "pygments_lexer": "ipython2",
   "version": "2.7.15"
  }
 },
 "nbformat": 4,
 "nbformat_minor": 2
}
