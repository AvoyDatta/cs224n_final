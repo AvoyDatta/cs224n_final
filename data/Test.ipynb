{
 "cells": [
  {
   "cell_type": "code",
   "execution_count": 159,
   "metadata": {},
   "outputs": [
    {
     "name": "stderr",
     "output_type": "stream",
     "text": [
      "[nltk_data] Downloading package punkt to\n",
      "[nltk_data]     /Users/arjunarora/nltk_data...\n",
      "[nltk_data]   Package punkt is already up-to-date!\n"
     ]
    },
    {
     "data": {
      "text/plain": [
       "<module 'data_utils' from 'data_utils.py'>"
      ]
     },
     "execution_count": 159,
     "metadata": {},
     "output_type": "execute_result"
    }
   ],
   "source": [
    "import csv\n",
    "import data_utils\n",
    "import torch\n",
    "import numpy as np\n",
    "\n",
    "reload(data_utils)"
   ]
  },
  {
   "cell_type": "code",
   "execution_count": 160,
   "metadata": {},
   "outputs": [
    {
     "name": "stdout",
     "output_type": "stream",
     "text": [
      "torch.Size([5, 1983, 7])\n"
     ]
    }
   ],
   "source": [
    "data = data_utils.loadTechnical(\"./stocknews/DJIA_table.csv\")\n",
    "print(data.shape)\n",
    "\n",
    "# tensor = np.array([data['Stoch_K'],data['Stoch_D'],data['Momentum'],data['ROC'],data['WillR'],data['AD'],data['Disp']])\n",
    "# # print(tens.shape)\n",
    "# # print(tens.shape)\n",
    "# sequence_len = tensor.shape[1]\n",
    "# stack = []\n",
    "# for i in range(n,sequence_len): \n",
    "#     value = tensor[:,np.newaxis,i-n:i]\n",
    "#     stack.append(value)\n",
    "# new_tensor = np.concatenate(stack,1)\n",
    "# print(new_tensor.shape)\n",
    "# new_tensor = torch.Tensor(new_tensor)\n",
    "# print(new_tensor.shape)"
   ]
  },
  {
   "cell_type": "code",
   "execution_count": 161,
   "metadata": {},
   "outputs": [],
   "source": [
    "targets,data_title = data_utils.loadTitle(\"./stocknews/Combined_News_DJIA.csv\")\n",
    "# for items in data_title[1]:\n",
    "#     print(items)"
   ]
  },
  {
   "cell_type": "code",
   "execution_count": 163,
   "metadata": {},
   "outputs": [
    {
     "name": "stdout",
     "output_type": "stream",
     "text": [
      "torch.Size([1983, 25, 300])\n",
      "torch.Size([1983])\n"
     ]
    }
   ],
   "source": [
    "print(data_title.shape)\n",
    "print(targets.shape)\n",
    "# dat  = data_title[5:,:,:]\n",
    "# print(dat.shape)"
   ]
  },
  {
   "cell_type": "code",
   "execution_count": null,
   "metadata": {},
   "outputs": [],
   "source": []
  },
  {
   "cell_type": "code",
   "execution_count": null,
   "metadata": {},
   "outputs": [],
   "source": []
  }
 ],
 "metadata": {
  "kernelspec": {
   "display_name": "Python [conda env:CS224n]",
   "language": "python",
   "name": "conda-env-CS224n-py"
  },
  "language_info": {
   "codemirror_mode": {
    "name": "ipython",
    "version": 2
   },
   "file_extension": ".py",
   "mimetype": "text/x-python",
   "name": "python",
   "nbconvert_exporter": "python",
   "pygments_lexer": "ipython2",
   "version": "2.7.15"
  }
 },
 "nbformat": 4,
 "nbformat_minor": 2
}
